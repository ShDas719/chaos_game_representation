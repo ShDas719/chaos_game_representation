{
  "nbformat": 4,
  "nbformat_minor": 0,
  "metadata": {
    "colab": {
      "provenance": [],
      "authorship_tag": "ABX9TyPTyI4HgODa50SY1ZpONxez",
      "include_colab_link": true
    },
    "kernelspec": {
      "name": "python3",
      "display_name": "Python 3"
    },
    "language_info": {
      "name": "python"
    }
  },
  "cells": [
    {
      "cell_type": "markdown",
      "metadata": {
        "id": "view-in-github",
        "colab_type": "text"
      },
      "source": [
        "<a href=\"https://colab.research.google.com/github/ShDas719/chaos_game_representation/blob/main/Chaos_Game__Representation_Basic.ipynb\" target=\"_parent\"><img src=\"https://colab.research.google.com/assets/colab-badge.svg\" alt=\"Open In Colab\"/></a>"
      ]
    },
    {
      "cell_type": "markdown",
      "source": [],
      "metadata": {
        "id": "vc97rYeJ4Vvq"
      }
    },
    {
      "cell_type": "markdown",
      "source": [
        "# **Python implementation of Chaos Game Representation (CGR) for DNA sequences**"
      ],
      "metadata": {
        "id": "wKQFNnic4Uob"
      }
    },
    {
      "cell_type": "code",
      "execution_count": null,
      "metadata": {
        "colab": {
          "base_uri": "https://localhost:8080/",
          "height": 521
        },
        "id": "mUvcI3Lb4DCH",
        "outputId": "4db13769-e6e2-4e93-a936-ce63e318a018"
      },
      "outputs": [
        {
          "output_type": "display_data",
          "data": {
            "text/plain": [
              "<Figure size 600x600 with 1 Axes>"
            ],
            "image/png": "[encoded data removed]"
          },
          "metadata": {}
        }
      ],
      "source": [
        "import matplotlib.pyplot as plt\n",
        "\n",
        "# Define the mapping of nucleotides to corners of a square\n",
        "corner_mapping = {\n",
        "    'A': (0, 0),\n",
        "    'C': (0, 1),\n",
        "    'G': (1, 1),\n",
        "    'T': (1, 0)\n",
        "}\n",
        "\n",
        "def chaos_game_representation(sequence):\n",
        "    x, y = 0.5, 0.5  # Start at the center of the square\n",
        "    x_points = []\n",
        "    y_points = []\n",
        "\n",
        "    for nucleotide in sequence.upper():\n",
        "        if nucleotide in corner_mapping:\n",
        "            cx, cy = corner_mapping[nucleotide]\n",
        "            x = (x + cx) / 2\n",
        "            y = (y + cy) / 2\n",
        "            x_points.append(x)\n",
        "            y_points.append(y)\n",
        "\n",
        "    return x_points, y_points\n",
        "\n",
        "# Example DNA sequence\n",
        "dna_sequence = \"ACGTACGTGTCAGTACGTAGCTAGCTAGCTAGCTAGCTAGCTAG\"\n",
        "\n",
        "# Generate CGR points\n",
        "x_vals, y_vals = chaos_game_representation(dna_sequence)\n",
        "\n",
        "# Plot the CGR\n",
        "plt.figure(figsize=(6, 6))\n",
        "plt.plot(x_vals, y_vals, 'k.', markersize=1)\n",
        "plt.title(\"Chaos Game Representation (CGR) of DNA Sequence\")\n",
        "plt.axis('off')\n",
        "plt.show()\n"
      ]
    },
    {
      "cell_type": "markdown",
      "source": [
        "# **CGR for Protein Sequences**"
      ],
      "metadata": {
        "id": "rtuMY6524j2J"
      }
    },
    {
      "cell_type": "code",
      "source": [
        "import numpy as np\n",
        "import matplotlib.pyplot as plt\n",
        "\n",
        "# 20 standard amino acids\n",
        "amino_acids = 'ACDEFGHIKLMNPQRSTVWY'\n",
        "\n",
        "# Create a mapping: Each amino acid is a point on a circle\n",
        "angle_step = 2 * np.pi / 20\n",
        "mapping = {\n",
        "    aa: (np.cos(i * angle_step), np.sin(i * angle_step))\n",
        "    for i, aa in enumerate(amino_acids)\n",
        "}\n",
        "\n",
        "def cgr_protein(sequence):\n",
        "    x, y = 0.0, 0.0\n",
        "    x_points, y_points = [], []\n",
        "\n",
        "    for aa in sequence.upper():\n",
        "        if aa in mapping:\n",
        "            cx, cy = mapping[aa]\n",
        "            x = (x + cx) / 2\n",
        "            y = (y + cy) / 2\n",
        "            x_points.append(x)\n",
        "            y_points.append(y)\n",
        "\n",
        "    return x_points, y_points\n",
        "\n",
        "# Example protein sequence\n",
        "protein_sequence = \"MKWVTFISLLFLFSSAYS\"\n",
        "\n",
        "x_vals, y_vals = cgr_protein(protein_sequence)\n",
        "\n",
        "plt.figure(figsize=(6, 6))\n",
        "plt.plot(x_vals, y_vals, 'k.', markersize=1)\n",
        "plt.title(\"Chaos Game Representation (CGR) of Protein Sequence\")\n",
        "plt.axis('off')\n",
        "plt.show()\n",
        "\n"
      ],
      "metadata": {
        "colab": {
          "base_uri": "https://localhost:8080/",
          "height": 521
        },
        "id": "yKhksODR4lSp",
        "outputId": "4c93152a-5441-4d72-be65-06c9d62f5024"
      },
      "execution_count": null,
      "outputs": [
        {
          "output_type": "display_data",
          "data": {
            "text/plain": [
              "<Figure size 600x600 with 1 Axes>"
            ],
            "image/png": "[encoded data removed]"
          },
          "metadata": {}
        }
      ]
    },
    {
      "cell_type": "markdown",
      "source": [
        "# **Step-by-step CGR Image Generation and Saving for CNN Training**"
      ],
      "metadata": {
        "id": "OMi330q44x3K"
      }
    },
    {
      "cell_type": "code",
      "source": [
        "!pip install biopython matplotlib pillow"
      ],
      "metadata": {
        "colab": {
          "base_uri": "https://localhost:8080/"
        },
        "id": "-lZajDhw41NC",
        "outputId": "560fe88f-6e8a-48f5-bf2b-5c7c13289dea"
      },
      "execution_count": null,
      "outputs": [
        {
          "output_type": "stream",
          "name": "stdout",
          "text": [
            "Collecting biopython\n",
            "  Downloading biopython-1.85-cp311-cp311-manylinux_2_17_x86_64.manylinux2014_x86_64.whl.metadata (13 kB)\n",
            "Requirement already satisfied: matplotlib in /usr/local/lib/python3.11/dist-packages (3.10.0)\n",
            "Requirement already satisfied: pillow in /usr/local/lib/python3.11/dist-packages (11.1.0)\n",
            "Requirement already satisfied: numpy in /usr/local/lib/python3.11/dist-packages (from biopython) (2.0.2)\n",
            "Requirement already satisfied: contourpy>=1.0.1 in /usr/local/lib/python3.11/dist-packages (from matplotlib) (1.3.1)\n",
            "Requirement already satisfied: cycler>=0.10 in /usr/local/lib/python3.11/dist-packages (from matplotlib) (0.12.1)\n",
            "Requirement already satisfied: fonttools>=4.22.0 in /usr/local/lib/python3.11/dist-packages (from matplotlib) (4.56.0)\n",
            "Requirement already satisfied: kiwisolver>=1.3.1 in /usr/local/lib/python3.11/dist-packages (from matplotlib) (1.4.8)\n",
            "Requirement already satisfied: packaging>=20.0 in /usr/local/lib/python3.11/dist-packages (from matplotlib) (24.2)\n",
            "Requirement already satisfied: pyparsing>=2.3.1 in /usr/local/lib/python3.11/dist-packages (from matplotlib) (3.2.1)\n",
            "Requirement already satisfied: python-dateutil>=2.7 in /usr/local/lib/python3.11/dist-packages (from matplotlib) (2.8.2)\n",
            "Requirement already satisfied: six>=1.5 in /usr/local/lib/python3.11/dist-packages (from python-dateutil>=2.7->matplotlib) (1.17.0)\n",
            "Downloading biopython-1.85-cp311-cp311-manylinux_2_17_x86_64.manylinux2014_x86_64.whl (3.3 MB)\n",
            "\u001b[2K   \u001b[90m━━━━━━━━━━━━━━━━━━━━━━━━━━━━━━━━━━━━━━━━\u001b[0m \u001b[32m3.3/3.3 MB\u001b[0m \u001b[31m24.7 MB/s\u001b[0m eta \u001b[36m0:00:00\u001b[0m\n",
            "\u001b[?25hInstalling collected packages: biopython\n",
            "Successfully installed biopython-1.85\n"
          ]
        }
      ]
    },
    {
      "cell_type": "markdown",
      "source": [
        "# **Code to Generate and Save CGR Images**"
      ],
      "metadata": {
        "id": "tfd7Thne47JB"
      }
    },
    {
      "cell_type": "code",
      "source": [
        "from Bio import SeqIO\n",
        "import matplotlib.pyplot as plt\n",
        "from PIL import Image\n",
        "import os\n",
        "\n",
        "# CGR for DNA\n",
        "corner_mapping = {\n",
        "    'A': (0, 0),\n",
        "    'C': (0, 1),\n",
        "    'G': (1, 1),\n",
        "    'T': (1, 0)\n",
        "}\n",
        "\n",
        "def generate_cgr_image(sequence, img_path, resolution=128):\n",
        "    x, y = 0.5, 0.5\n",
        "    img = Image.new('L', (resolution, resolution), color=255)  # Grayscale image (white background)\n",
        "    pixels = img.load()\n",
        "\n",
        "    for nucleotide in sequence.upper():\n",
        "        if nucleotide in corner_mapping:\n",
        "            cx, cy = corner_mapping[nucleotide]\n",
        "            x = (x + cx) / 2\n",
        "            y = (y + cy) / 2\n",
        "            px = int(x * (resolution - 1))\n",
        "            py = int((1 - y) * (resolution - 1))  # Flip y for image coordinates\n",
        "            pixels[px, py] = 0  # Black pixel\n",
        "\n",
        "    img.save(img_path)\n",
        "\n",
        "# Example usage with a list of sequences and labels\n",
        "sequences = [\n",
        "    (\"ACGTACGTGTCAGTACGTAGCTAGCTAG\", \"class1\"),\n",
        "    (\"TTGGCCGGAACCTTGGCCAAT\", \"class2\"),\n",
        "    (\"ATATATCGCGCGATATATCG\", \"class1\"),\n",
        "]\n",
        "\n",
        "output_dir = \"cgr_dataset\"\n",
        "os.makedirs(output_dir, exist_ok=True)\n",
        "\n",
        "# Save images\n",
        "for i, (seq, label) in enumerate(sequences):\n",
        "    class_dir = os.path.join(output_dir, label)\n",
        "    os.makedirs(class_dir, exist_ok=True)\n",
        "    img_path = os.path.join(class_dir, f\"seq_{i}.png\")\n",
        "    generate_cgr_image(seq, img_path)\n"
      ],
      "metadata": {
        "id": "gWqd7pXL467q"
      },
      "execution_count": null,
      "outputs": []
    },
    {
      "cell_type": "markdown",
      "source": [
        "# **CNN Classification with CGR Images (Using TensorFlow)**"
      ],
      "metadata": {
        "id": "ILYN0-d95vM0"
      }
    },
    {
      "cell_type": "code",
      "source": [
        "import tensorflow as tf\n",
        "from tensorflow.keras.preprocessing.image import ImageDataGenerator\n",
        "from tensorflow.keras.models import Sequential\n",
        "from tensorflow.keras.layers import Conv2D, MaxPooling2D, Flatten, Dense, Dropout\n",
        "\n",
        "# Image settings\n",
        "IMG_SIZE = 128\n",
        "BATCH_SIZE = 16\n",
        "\n",
        "# Load images from directory\n",
        "# Instead of validation split, use all data for training and\n",
        "# evaluate on the same train_generator for demonstration purposes\n",
        "train_datagen = ImageDataGenerator(\n",
        "    rescale=1./255\n",
        ")\n",
        "\n",
        "train_generator = train_datagen.flow_from_directory(\n",
        "    'cgr_dataset',\n",
        "    target_size=(IMG_SIZE, IMG_SIZE),\n",
        "    batch_size=BATCH_SIZE,\n",
        "    color_mode='grayscale',\n",
        "    class_mode='categorical',\n",
        "    # Removed subset to use all data\n",
        ")\n",
        "\n",
        "# Simple CNN model\n",
        "model = Sequential([\n",
        "    Conv2D(32, (3,3), activation='relu', input_shape=(IMG_SIZE, IMG_SIZE, 1)),\n",
        "    MaxPooling2D(2,2),\n",
        "    Conv2D(64, (3,3), activation='relu'),\n",
        "    MaxPooling2D(2,2),\n",
        "    Flatten(),\n",
        "    Dense(128, activation='relu'),\n",
        "    Dropout(0.5),\n",
        "    Dense(train_generator.num_classes, activation='softmax')\n",
        "])\n",
        "\n",
        "model.compile(optimizer='adam', loss='categorical_crossentropy', metrics=['accuracy'])\n",
        "\n",
        "# Train the model\n",
        "model.fit(train_generator, epochs=10)\n",
        "\n",
        "# Evaluate the model on the training data itself\n",
        "loss, accuracy = model.evaluate(train_generator)  # Use train_generator for evaluation\n",
        "print(f\"Training Accuracy: {accuracy:.2f}\") # Changed to Training Accuracy"
      ],
      "metadata": {
        "colab": {
          "base_uri": "https://localhost:8080/"
        },
        "id": "LyUZalCx5fHg",
        "outputId": "1fddfc55-978e-4bc3-b00d-7bccf9765bd5"
      },
      "execution_count": null,
      "outputs": [
        {
          "output_type": "stream",
          "name": "stdout",
          "text": [
            "Found 3 images belonging to 2 classes.\n"
          ]
        },
        {
          "output_type": "stream",
          "name": "stderr",
          "text": [
            "/usr/local/lib/python3.11/dist-packages/keras/src/layers/convolutional/base_conv.py:107: UserWarning: Do not pass an `input_shape`/`input_dim` argument to a layer. When using Sequential models, prefer using an `Input(shape)` object as the first layer in the model instead.\n",
            "  super().__init__(activity_regularizer=activity_regularizer, **kwargs)\n"
          ]
        },
        {
          "output_type": "stream",
          "name": "stdout",
          "text": [
            "Epoch 1/10\n"
          ]
        },
        {
          "output_type": "stream",
          "name": "stderr",
          "text": [
            "/usr/local/lib/python3.11/dist-packages/keras/src/trainers/data_adapters/py_dataset_adapter.py:121: UserWarning: Your `PyDataset` class should call `super().__init__(**kwargs)` in its constructor. `**kwargs` can include `workers`, `use_multiprocessing`, `max_queue_size`. Do not pass these arguments to `fit()`, as they will be ignored.\n",
            "  self._warn_if_super_not_called()\n"
          ]
        },
        {
          "output_type": "stream",
          "name": "stdout",
          "text": [
            "\u001b[1m1/1\u001b[0m \u001b[32m━━━━━━━━━━━━━━━━━━━━\u001b[0m\u001b[37m\u001b[0m \u001b[1m3s\u001b[0m 3s/step - accuracy: 0.6667 - loss: 0.7586\n",
            "Epoch 2/10\n",
            "\u001b[1m1/1\u001b[0m \u001b[32m━━━━━━━━━━━━━━━━━━━━\u001b[0m\u001b[37m\u001b[0m \u001b[1m0s\u001b[0m 421ms/step - accuracy: 0.6667 - loss: 2.0864\n",
            "Epoch 3/10\n",
            "\u001b[1m1/1\u001b[0m \u001b[32m━━━━━━━━━━━━━━━━━━━━\u001b[0m\u001b[37m\u001b[0m \u001b[1m0s\u001b[0m 389ms/step - accuracy: 0.6667 - loss: 0.9931\n",
            "Epoch 4/10\n",
            "\u001b[1m1/1\u001b[0m \u001b[32m━━━━━━━━━━━━━━━━━━━━\u001b[0m\u001b[37m\u001b[0m \u001b[1m1s\u001b[0m 596ms/step - accuracy: 0.6667 - loss: 0.2504\n",
            "Epoch 5/10\n",
            "\u001b[1m1/1\u001b[0m \u001b[32m━━━━━━━━━━━━━━━━━━━━\u001b[0m\u001b[37m\u001b[0m \u001b[1m1s\u001b[0m 674ms/step - accuracy: 0.3333 - loss: 0.8750\n",
            "Epoch 6/10\n",
            "\u001b[1m1/1\u001b[0m \u001b[32m━━━━━━━━━━━━━━━━━━━━\u001b[0m\u001b[37m\u001b[0m \u001b[1m1s\u001b[0m 673ms/step - accuracy: 0.6667 - loss: 2.5629\n",
            "Epoch 7/10\n",
            "\u001b[1m1/1\u001b[0m \u001b[32m━━━━━━━━━━━━━━━━━━━━\u001b[0m\u001b[37m\u001b[0m \u001b[1m0s\u001b[0m 268ms/step - accuracy: 1.0000 - loss: 0.3874\n",
            "Epoch 8/10\n",
            "\u001b[1m1/1\u001b[0m \u001b[32m━━━━━━━━━━━━━━━━━━━━\u001b[0m\u001b[37m\u001b[0m \u001b[1m0s\u001b[0m 357ms/step - accuracy: 1.0000 - loss: 0.1937\n",
            "Epoch 9/10\n",
            "\u001b[1m1/1\u001b[0m \u001b[32m━━━━━━━━━━━━━━━━━━━━\u001b[0m\u001b[37m\u001b[0m \u001b[1m1s\u001b[0m 688ms/step - accuracy: 0.6667 - loss: 0.3302\n",
            "Epoch 10/10\n",
            "\u001b[1m1/1\u001b[0m \u001b[32m━━━━━━━━━━━━━━━━━━━━\u001b[0m\u001b[37m\u001b[0m \u001b[1m0s\u001b[0m 399ms/step - accuracy: 0.6667 - loss: 0.5994\n",
            "\u001b[1m1/1\u001b[0m \u001b[32m━━━━━━━━━━━━━━━━━━━━\u001b[0m\u001b[37m\u001b[0m \u001b[1m0s\u001b[0m 278ms/step - accuracy: 0.6667 - loss: 0.8401\n",
            "Training Accuracy: 0.67\n"
          ]
        }
      ]
    },
    {
      "cell_type": "markdown",
      "source": [
        "# **PyTorch Dataset & DataLoader**"
      ],
      "metadata": {
        "id": "UD0RqnBt6dv-"
      }
    },
    {
      "cell_type": "code",
      "source": [
        "import torch\n",
        "from torchvision import datasets, transforms\n",
        "from torch.utils.data import DataLoader\n",
        "\n",
        "# Parameters\n",
        "IMG_SIZE = 128\n",
        "BATCH_SIZE = 16\n",
        "\n",
        "# Transforms\n",
        "transform = transforms.Compose([\n",
        "    transforms.Grayscale(num_output_channels=1),\n",
        "    transforms.Resize((IMG_SIZE, IMG_SIZE)),\n",
        "    transforms.ToTensor()\n",
        "])\n",
        "\n",
        "# Load dataset\n",
        "dataset = datasets.ImageFolder(root='cgr_dataset', transform=transform)\n",
        "\n",
        "# Split into train and val\n",
        "train_size = int(0.8 * len(dataset))\n",
        "val_size = len(dataset) - train_size\n",
        "train_dataset, val_dataset = torch.utils.data.random_split(dataset, [train_size, val_size])\n",
        "\n",
        "# DataLoaders\n",
        "train_loader = DataLoader(train_dataset, batch_size=BATCH_SIZE, shuffle=True)\n",
        "val_loader = DataLoader(val_dataset, batch_size=BATCH_SIZE, shuffle=False)\n",
        "\n",
        "class_names = dataset.classes\n",
        "print(\"Classes:\", class_names)\n"
      ],
      "metadata": {
        "colab": {
          "base_uri": "https://localhost:8080/"
        },
        "id": "C8TeXv4K6fXF",
        "outputId": "55cefa74-bc9b-4e31-a04b-1a189284527f"
      },
      "execution_count": null,
      "outputs": [
        {
          "output_type": "stream",
          "name": "stdout",
          "text": [
            "Classes: ['class1', 'class2']\n"
          ]
        }
      ]
    },
    {
      "cell_type": "code",
      "source": [
        "import torch.nn as nn\n",
        "import torch.nn.functional as F\n",
        "\n",
        "class CGRCNN(nn.Module):\n",
        "    def __init__(self, num_classes):\n",
        "        super(CGRCNN, self).__init__()\n",
        "        self.conv1 = nn.Conv2d(1, 32, 3, padding=1)\n",
        "        self.pool1 = nn.MaxPool2d(2, 2)\n",
        "        self.conv2 = nn.Conv2d(32, 64, 3, padding=1)\n",
        "        self.pool2 = nn.MaxPool2d(2, 2)\n",
        "        self.fc1 = nn.Linear(64 * (IMG_SIZE // 4) * (IMG_SIZE // 4), 128)\n",
        "        self.dropout = nn.Dropout(0.5)\n",
        "        self.fc2 = nn.Linear(128, num_classes)\n",
        "\n",
        "    def forward(self, x):\n",
        "        x = self.pool1(F.relu(self.conv1(x)))  # -> [batch, 32, 64, 64]\n",
        "        x = self.pool2(F.relu(self.conv2(x)))  # -> [batch, 64, 32, 32]\n",
        "        x = x.view(x.size(0), -1)              # flatten\n",
        "        x = F.relu(self.fc1(x))\n",
        "        x = self.dropout(x)\n",
        "        return self.fc2(x)\n"
      ],
      "metadata": {
        "id": "P9ULXalX6mQ1"
      },
      "execution_count": null,
      "outputs": []
    },
    {
      "cell_type": "code",
      "source": [
        "import torch.optim as optim\n",
        "\n",
        "device = torch.device(\"cuda\" if torch.cuda.is_available() else \"cpu\")\n",
        "model = CGRCNN(num_classes=len(class_names)).to(device)\n",
        "\n",
        "criterion = nn.CrossEntropyLoss()\n",
        "optimizer = optim.Adam(model.parameters(), lr=0.001)\n",
        "\n",
        "# Training loop\n",
        "epochs = 10\n",
        "for epoch in range(epochs):\n",
        "    model.train()\n",
        "    running_loss = 0.0\n",
        "    for images, labels in train_loader:\n",
        "        images, labels = images.to(device), labels.to(device)\n",
        "\n",
        "        optimizer.zero_grad()\n",
        "        outputs = model(images)\n",
        "        loss = criterion(outputs, labels)\n",
        "        loss.backward()\n",
        "        optimizer.step()\n",
        "\n",
        "        running_loss += loss.item()\n",
        "\n",
        "    print(f\"Epoch {epoch+1}/{epochs}, Loss: {running_loss:.4f}\")\n"
      ],
      "metadata": {
        "colab": {
          "base_uri": "https://localhost:8080/"
        },
        "id": "9a_YtYg16oyd",
        "outputId": "e39c75bb-34eb-42eb-c7fa-1f6cbc585042"
      },
      "execution_count": null,
      "outputs": [
        {
          "output_type": "stream",
          "name": "stdout",
          "text": [
            "Epoch 1/10, Loss: 0.7094\n",
            "Epoch 2/10, Loss: 2.7754\n",
            "Epoch 3/10, Loss: 0.5880\n",
            "Epoch 4/10, Loss: 0.4398\n",
            "Epoch 5/10, Loss: 0.9465\n",
            "Epoch 6/10, Loss: 0.6166\n",
            "Epoch 7/10, Loss: 0.3989\n",
            "Epoch 8/10, Loss: 1.1811\n",
            "Epoch 9/10, Loss: 0.5984\n",
            "Epoch 10/10, Loss: 0.6401\n"
          ]
        }
      ]
    },
    {
      "cell_type": "code",
      "source": [
        "model.eval()\n",
        "correct, total = 0, 0\n",
        "with torch.no_grad():\n",
        "    for images, labels in val_loader:\n",
        "        images, labels = images.to(device), labels.to(device)\n",
        "        outputs = model(images)\n",
        "        _, predicted = torch.max(outputs, 1)\n",
        "        total += labels.size(0)\n",
        "        correct += (predicted == labels).sum().item()\n",
        "\n",
        "print(f\"Validation Accuracy: {100 * correct / total:.2f}%\")\n"
      ],
      "metadata": {
        "id": "BUEQ8Uz36xfl",
        "outputId": "ee774bdd-49c0-4894-fe6a-1d6f7752d01a",
        "colab": {
          "base_uri": "https://localhost:8080/"
        }
      },
      "execution_count": null,
      "outputs": [
        {
          "output_type": "stream",
          "name": "stdout",
          "text": [
            "Validation Accuracy: 100.00%\n"
          ]
        }
      ]
    },
    {
      "cell_type": "markdown",
      "source": [
        "🚀 Practical Workflow Example Using UCSC Tools and CGR\n",
        "Here's how these tools might fit together in a workflow:\n",
        "\n",
        "Fetch Genome Sequences\n",
        "\n",
        "Use ucsc-genomes-download or Table Browser.\n",
        "\n",
        "Clean and Format Sequences\n",
        "\n",
        "DNA Duster.\n",
        "\n",
        "Align and Map Sequences to Genome\n",
        "\n",
        "BLAT.\n",
        "\n",
        "Visualize and Explore Context\n",
        "\n",
        "Genome Browser, Genome Graphs.\n",
        "\n",
        "Coordinate Conversion (if needed)\n",
        "\n",
        "LiftOver or CrossMap.\n",
        "\n",
        "Perform Comparative Analysis (e.g., CGR Visualization)\n",
        "\n",
        "Use Python with twobitreader or Biopython, then apply CGR Python code.\n",
        "\n",
        "Create Publication-Quality Graphics\n",
        "\n",
        "Phylogenetic Tree PNG Maker, Genome Graphs."
      ],
      "metadata": {
        "id": "d_6IfJ5stnLb"
      }
    },
    {
      "cell_type": "code",
      "source": [],
      "metadata": {
        "id": "yavtUSrJtxbS"
      },
      "execution_count": null,
      "outputs": []
    }
  ]
}